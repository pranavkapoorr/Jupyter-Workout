{
 "cells": [
  {
   "cell_type": "markdown",
   "metadata": {},
   "source": [
    "# Convolutional Neural Network using Keras for MNIST"
   ]
  },
  {
   "cell_type": "code",
   "execution_count": 10,
   "metadata": {
    "scrolled": true
   },
   "outputs": [
    {
     "name": "stdout",
     "output_type": "stream",
     "text": [
      "x_train shape: (60000, 28, 28, 1)\n",
      "60000 train samples\n",
      "10000 test samples\n"
     ]
    }
   ],
   "source": [
    "## Importing packages to be used\n",
    "from __future__ import print_function\n",
    "import keras\n",
    "from keras.datasets import mnist\n",
    "from keras.models import Sequential\n",
    "from keras.layers import Dense, Dropout, Flatten\n",
    "from keras.layers import Conv2D, MaxPooling2D\n",
    "from keras import backend as K\n",
    "\n",
    "batch_size = 128\n",
    "num_classes = 10\n",
    "epochs = 10\n",
    "\n",
    "## input image dimensions\n",
    "img_rows, img_cols = 28, 28\n",
    "\n",
    "## the data, split between train and test sets\n",
    "(x_train, y_train), (x_test, y_test) = mnist.load_data()\n",
    "\n",
    "if K.image_data_format() == 'channels_first':\n",
    "    x_train = x_train.reshape(x_train.shape[0], 1, img_rows, img_cols)\n",
    "    x_test = x_test.reshape(x_test.shape[0], 1, img_rows, img_cols)\n",
    "    input_shape = (1, img_rows, img_cols)\n",
    "else:\n",
    "    x_train = x_train.reshape(x_train.shape[0], img_rows, img_cols, 1)\n",
    "    x_test = x_test.reshape(x_test.shape[0], img_rows, img_cols, 1)\n",
    "    input_shape = (img_rows, img_cols, 1)\n",
    "\n",
    "x_train = x_train.astype('float32')\n",
    "x_test = x_test.astype('float32')\n",
    "x_train /= 255\n",
    "x_test /= 255\n",
    "print('x_train shape:', x_train.shape)\n",
    "print(x_train.shape[0], 'train samples')\n",
    "print(x_test.shape[0], 'test samples')\n",
    "\n",
    "## convert class vectors to binary class matrices or ONE-HOT ENCODING\n",
    "y_train = keras.utils.to_categorical(y_train, num_classes)\n",
    "y_test = keras.utils.to_categorical(y_test, num_classes)\n"
   ]
  },
  {
   "cell_type": "code",
   "execution_count": 11,
   "metadata": {},
   "outputs": [
    {
     "name": "stdout",
     "output_type": "stream",
     "text": [
      "Train on 60000 samples, validate on 10000 samples\n",
      "Epoch 1/10\n",
      "60000/60000 [==============================] - 145s 2ms/step - loss: 0.2621 - acc: 0.9185 - val_loss: 0.0571 - val_acc: 0.9809\n",
      "Epoch 2/10\n",
      "60000/60000 [==============================] - 134s 2ms/step - loss: 0.0847 - acc: 0.9746 - val_loss: 0.0412 - val_acc: 0.9867\n",
      "Epoch 3/10\n",
      "60000/60000 [==============================] - 145s 2ms/step - loss: 0.0639 - acc: 0.9807 - val_loss: 0.0356 - val_acc: 0.9880\n",
      "Epoch 4/10\n",
      "60000/60000 [==============================] - 140s 2ms/step - loss: 0.0517 - acc: 0.9852 - val_loss: 0.0311 - val_acc: 0.9890\n",
      "Epoch 5/10\n",
      "60000/60000 [==============================] - 143s 2ms/step - loss: 0.0467 - acc: 0.9859 - val_loss: 0.0295 - val_acc: 0.9905\n",
      "Epoch 6/10\n",
      "60000/60000 [==============================] - 145s 2ms/step - loss: 0.0421 - acc: 0.9880 - val_loss: 0.0272 - val_acc: 0.9910\n",
      "Epoch 7/10\n",
      "60000/60000 [==============================] - 133s 2ms/step - loss: 0.0362 - acc: 0.9893 - val_loss: 0.0278 - val_acc: 0.9918\n",
      "Epoch 8/10\n",
      "60000/60000 [==============================] - 134s 2ms/step - loss: 0.0333 - acc: 0.9898 - val_loss: 0.0272 - val_acc: 0.9909\n",
      "Epoch 9/10\n",
      "60000/60000 [==============================] - 132s 2ms/step - loss: 0.0309 - acc: 0.9910 - val_loss: 0.0269 - val_acc: 0.9917\n",
      "Epoch 10/10\n",
      "60000/60000 [==============================] - 136s 2ms/step - loss: 0.0281 - acc: 0.9914 - val_loss: 0.0296 - val_acc: 0.9903\n"
     ]
    },
    {
     "data": {
      "text/plain": [
       "<keras.callbacks.History at 0x1362943c8>"
      ]
     },
     "execution_count": 11,
     "metadata": {},
     "output_type": "execute_result"
    }
   ],
   "source": [
    "## Modelling starts here\n",
    "model = Sequential()\n",
    "model.add(Conv2D(32, kernel_size=(3, 3),\n",
    "                 activation='relu',\n",
    "                 input_shape=input_shape))\n",
    "model.add(Conv2D(64, (3, 3), activation='relu'))\n",
    "model.add(MaxPooling2D(pool_size=(2, 2)))\n",
    "model.add(Dropout(0.25))\n",
    "model.add(Flatten())\n",
    "model.add(Dense(128, activation='relu'))\n",
    "model.add(Dropout(0.5))\n",
    "model.add(Dense(num_classes, activation='softmax'))\n",
    "\n",
    "model.compile(loss=keras.losses.categorical_crossentropy,\n",
    "              optimizer=keras.optimizers.Adadelta(),\n",
    "              metrics=['accuracy'])\n",
    "\n",
    "## training starts here\n",
    "model.fit(x_train, y_train,\n",
    "          batch_size=batch_size,\n",
    "          epochs=epochs,\n",
    "          verbose=1,\n",
    "          validation_data=(x_test, y_test))"
   ]
  },
  {
   "cell_type": "code",
   "execution_count": 12,
   "metadata": {},
   "outputs": [
    {
     "name": "stdout",
     "output_type": "stream",
     "text": [
      "Test loss: 0.029607466941685926\n",
      "Test accuracy: 0.9903\n"
     ]
    }
   ],
   "source": [
    "## evaluation of trained model\n",
    "score = model.evaluate(x_test, y_test, verbose=0)\n",
    "print('Test loss:', score[0])\n",
    "print('Test accuracy:', score[1])"
   ]
  },
  {
   "cell_type": "code",
   "execution_count": 14,
   "metadata": {},
   "outputs": [
    {
     "data": {
      "text/plain": [
       "array([[1.0605610e-11, 1.9315090e-09, 2.7905231e-09, 1.0074079e-09,\n",
       "        8.0650951e-11, 1.1244563e-12, 1.5182649e-15, 1.0000000e+00,\n",
       "        1.9513809e-11, 8.5359959e-09],\n",
       "       [5.2762090e-07, 9.0439562e-07, 9.9999857e-01, 4.1414913e-10,\n",
       "        1.1354214e-10, 1.9615822e-13, 1.8456179e-08, 4.2316716e-11,\n",
       "        4.6028925e-10, 1.7839999e-11],\n",
       "       [7.7453260e-10, 9.9999845e-01, 4.7109456e-08, 9.5884767e-10,\n",
       "        8.2965801e-07, 5.8428924e-09, 3.4364074e-08, 6.2354894e-07,\n",
       "        2.4137552e-08, 1.9656308e-09],\n",
       "       [9.9999917e-01, 2.3052116e-10, 3.4565449e-08, 1.0459364e-09,\n",
       "        8.2052198e-10, 5.3331441e-09, 8.5634019e-07, 9.8571293e-09,\n",
       "        2.9918967e-09, 5.6036711e-08]], dtype=float32)"
      ]
     },
     "execution_count": 14,
     "metadata": {},
     "output_type": "execute_result"
    }
   ],
   "source": [
    "## prediction or actual usage of model\n",
    "model.predict(x_test[:4])"
   ]
  },
  {
   "cell_type": "code",
   "execution_count": 16,
   "metadata": {},
   "outputs": [
    {
     "data": {
      "text/plain": [
       "[7, 2, 1, 0]"
      ]
     },
     "execution_count": 16,
     "metadata": {},
     "output_type": "execute_result"
    }
   ],
   "source": [
    "## verifying the above result with actual values\n",
    "import numpy as np\n",
    "### decoding from ONE-HOT ENCODED DATA\n",
    "converted_to_integer = y_test[:4]\n",
    "[np.where(r==1)[0][0] for r in converted_to_integer]"
   ]
  },
  {
   "cell_type": "code",
   "execution_count": null,
   "metadata": {},
   "outputs": [],
   "source": []
  }
 ],
 "metadata": {
  "celltoolbar": "Edit Metadata",
  "kernelspec": {
   "display_name": "Python 3",
   "language": "python",
   "name": "python3"
  },
  "language_info": {
   "codemirror_mode": {
    "name": "ipython",
    "version": 3
   },
   "file_extension": ".py",
   "mimetype": "text/x-python",
   "name": "python",
   "nbconvert_exporter": "python",
   "pygments_lexer": "ipython3",
   "version": "3.7.1"
  }
 },
 "nbformat": 4,
 "nbformat_minor": 2
}

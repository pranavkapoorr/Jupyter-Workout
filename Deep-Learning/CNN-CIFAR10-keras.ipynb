{
 "cells": [
  {
   "cell_type": "markdown",
   "metadata": {},
   "source": [
    "# Convolutional Neural Network using Keras for CIFAR10"
   ]
  },
  {
   "cell_type": "code",
   "execution_count": 1,
   "metadata": {},
   "outputs": [
    {
     "name": "stderr",
     "output_type": "stream",
     "text": [
      "Using TensorFlow backend.\n"
     ]
    }
   ],
   "source": [
    "import numpy as np\n",
    "import keras§\n",
    "from keras.models import Sequential\n",
    "from keras.layers import Dropout, Dense, Flatten\n",
    "from keras.optimizers import SGD\n",
    "from keras.layers.convolutional import Conv2D, MaxPooling2D\n",
    "from keras.utils import np_utils as u\n",
    "from keras.datasets import cifar10"
   ]
  },
  {
   "cell_type": "code",
   "execution_count": 2,
   "metadata": {},
   "outputs": [],
   "source": [
    "#Lets start by loading the Cifar10 data\n",
    "(X, y), (X_test, y_test) = cifar10.load_data()"
   ]
  },
  {
   "cell_type": "code",
   "execution_count": 3,
   "metadata": {},
   "outputs": [],
   "source": [
    "#Keep in mind the images are in RGB\n",
    "#So we can normalise the data by diving by 255\n",
    "#The data is in integers therefore we need to convert them to float first\n",
    "X, X_test = X.astype('float32')/255.0, X_test.astype('float32')/255.0"
   ]
  },
  {
   "cell_type": "code",
   "execution_count": 4,
   "metadata": {},
   "outputs": [],
   "source": [
    "#Then we convert the y values into one-hot vectors\n",
    "#The cifar10 has only 10 classes, thats is why we specify a one-hot\n",
    "#vector of width/class 10\n",
    "y, y_test = u.to_categorical(y, 10), u.to_categorical(y_test, 10)"
   ]
  },
  {
   "cell_type": "code",
   "execution_count": 5,
   "metadata": {},
   "outputs": [
    {
     "name": "stdout",
     "output_type": "stream",
     "text": [
      "WARNING:tensorflow:From /Library/Frameworks/Python.framework/Versions/3.7/lib/python3.7/site-packages/tensorflow/python/framework/op_def_library.py:263: colocate_with (from tensorflow.python.framework.ops) is deprecated and will be removed in a future version.\n",
      "Instructions for updating:\n",
      "Colocations handled automatically by placer.\n",
      "WARNING:tensorflow:From /Library/Frameworks/Python.framework/Versions/3.7/lib/python3.7/site-packages/keras/backend/tensorflow_backend.py:2888: calling dropout (from tensorflow.python.ops.nn_ops) with keep_prob is deprecated and will be removed in a future version.\n",
      "Instructions for updating:\n",
      "Please use `rate` instead of `keep_prob`. Rate should be set to `rate = 1 - keep_prob`.\n",
      "WARNING:tensorflow:From /Library/Frameworks/Python.framework/Versions/3.7/lib/python3.7/site-packages/keras/backend/tensorflow_backend.py:1205: calling reduce_prod_v1 (from tensorflow.python.ops.math_ops) with keep_dims is deprecated and will be removed in a future version.\n",
      "Instructions for updating:\n",
      "keep_dims is deprecated, use keepdims instead\n",
      "WARNING:tensorflow:From /Library/Frameworks/Python.framework/Versions/3.7/lib/python3.7/site-packages/keras/backend/tensorflow_backend.py:2755: calling reduce_sum_v1 (from tensorflow.python.ops.math_ops) with keep_dims is deprecated and will be removed in a future version.\n",
      "Instructions for updating:\n",
      "keep_dims is deprecated, use keepdims instead\n"
     ]
    }
   ],
   "source": [
    "#Now we can go ahead and create our Convolution model\n",
    "model = Sequential()\n",
    "#We want to output 32 features maps. The kernel size is going to be\n",
    "#3x3 and we specify our input shape to be 32x32 with 3 channels\n",
    "#Padding=same means we want the same dimensional output as input\n",
    "#activation specifies the activation function\n",
    "model.add(Conv2D(32, (3, 3), input_shape=(32, 32, 3), padding='same',\n",
    "                 activation='relu'))\n",
    "#20% of the nodes are set to 0\n",
    "model.add(Dropout(0.2))\n",
    "#now we add another convolution layer, again with a 3x3 kernel\n",
    "#This time our padding=valid this means that the output dimension can\n",
    "#take any form\n",
    "model.add(Conv2D(32, (3, 3), activation='relu', padding='valid'))\n",
    "#maxpool with a kernet of 2x2\n",
    "model.add(MaxPooling2D(pool_size=(2, 2)))\n",
    "#In a convolution NN, we neet to flatten our data before we can\n",
    "#input it into the ouput/dense layer\n",
    "model.add(Flatten())\n",
    "#Dense layer with 512 hidden units\n",
    "model.add(Dense(512, activation='relu'))\n",
    "#this time we set 30% of the nodes to 0 to minimize overfitting\n",
    "model.add(Dropout(0.3))\n",
    "#Finally the output dense layer with 10 hidden units corresponding to\n",
    "#our 10 classe\n",
    "model.add(Dense(10, activation='softmax'))\n",
    "#Few simple configurations\n",
    "model.compile(loss=keras.losses.categorical_crossentropy,optimizer=keras.optimizers.Adadelta(),metrics=['accuracy'])"
   ]
  },
  {
   "cell_type": "code",
   "execution_count": 6,
   "metadata": {},
   "outputs": [
    {
     "name": "stdout",
     "output_type": "stream",
     "text": [
      "WARNING:tensorflow:From /Library/Frameworks/Python.framework/Versions/3.7/lib/python3.7/site-packages/tensorflow/python/ops/math_ops.py:3066: to_int32 (from tensorflow.python.ops.math_ops) is deprecated and will be removed in a future version.\n",
      "Instructions for updating:\n",
      "Use tf.cast instead.\n",
      "Train on 50000 samples, validate on 10000 samples\n",
      "Epoch 1/25\n",
      "50000/50000 [==============================] - 146s - loss: 2.0045 - acc: 0.2728 - val_loss: 1.8368 - val_acc: 0.3588\n",
      "Epoch 2/25\n",
      "50000/50000 [==============================] - 138s - loss: 1.6558 - acc: 0.4136 - val_loss: 1.4934 - val_acc: 0.4845\n",
      "Epoch 3/25\n",
      "50000/50000 [==============================] - 137s - loss: 1.4496 - acc: 0.4900 - val_loss: 1.3753 - val_acc: 0.5114\n",
      "Epoch 4/25\n",
      "50000/50000 [==============================] - 149s - loss: 1.3190 - acc: 0.5339 - val_loss: 1.2446 - val_acc: 0.5600\n",
      "Epoch 5/25\n",
      "50000/50000 [==============================] - 139s - loss: 1.2202 - acc: 0.5718 - val_loss: 1.1677 - val_acc: 0.5965\n",
      "Epoch 6/25\n",
      "50000/50000 [==============================] - 133s - loss: 1.1320 - acc: 0.6052 - val_loss: 1.1039 - val_acc: 0.6182\n",
      "Epoch 7/25\n",
      "50000/50000 [==============================] - 137s - loss: 1.0622 - acc: 0.6292 - val_loss: 1.0772 - val_acc: 0.6215\n",
      "Epoch 8/25\n",
      "50000/50000 [==============================] - 161s - loss: 1.0059 - acc: 0.6463 - val_loss: 1.0764 - val_acc: 0.6241\n",
      "Epoch 9/25\n",
      "50000/50000 [==============================] - 162s - loss: 0.9497 - acc: 0.6699 - val_loss: 1.0156 - val_acc: 0.6406\n",
      "Epoch 10/25\n",
      "50000/50000 [==============================] - 160s - loss: 0.8957 - acc: 0.6882 - val_loss: 1.0764 - val_acc: 0.6280\n",
      "Epoch 11/25\n",
      "50000/50000 [==============================] - 137s - loss: 0.8485 - acc: 0.7073 - val_loss: 0.9619 - val_acc: 0.6622\n",
      "Epoch 12/25\n",
      "50000/50000 [==============================] - 153s - loss: 0.7999 - acc: 0.7218 - val_loss: 0.9337 - val_acc: 0.6764\n",
      "Epoch 13/25\n",
      "50000/50000 [==============================] - 160s - loss: 0.7575 - acc: 0.7382 - val_loss: 0.9485 - val_acc: 0.6713\n",
      "Epoch 14/25\n",
      "50000/50000 [==============================] - 159s - loss: 0.7109 - acc: 0.7549 - val_loss: 0.9452 - val_acc: 0.6725\n",
      "Epoch 15/25\n",
      "50000/50000 [==============================] - 160s - loss: 0.6714 - acc: 0.7697 - val_loss: 0.9349 - val_acc: 0.6781\n",
      "Epoch 16/25\n",
      "50000/50000 [==============================] - 159s - loss: 0.6319 - acc: 0.7812 - val_loss: 0.9732 - val_acc: 0.6650\n",
      "Epoch 17/25\n",
      "50000/50000 [==============================] - 139s - loss: 0.5956 - acc: 0.7973 - val_loss: 0.9033 - val_acc: 0.6914\n",
      "Epoch 18/25\n",
      "50000/50000 [==============================] - 152s - loss: 0.5614 - acc: 0.8094 - val_loss: 0.9625 - val_acc: 0.6670\n",
      "Epoch 19/25\n",
      "50000/50000 [==============================] - 162s - loss: 0.5137 - acc: 0.8264 - val_loss: 0.9756 - val_acc: 0.6724\n",
      "Epoch 20/25\n",
      "50000/50000 [==============================] - 162s - loss: 0.4891 - acc: 0.8348 - val_loss: 0.9472 - val_acc: 0.6786\n",
      "Epoch 21/25\n",
      "50000/50000 [==============================] - 161s - loss: 0.4536 - acc: 0.8465 - val_loss: 0.9287 - val_acc: 0.6856\n",
      "Epoch 22/25\n",
      "50000/50000 [==============================] - 146s - loss: 0.4211 - acc: 0.8604 - val_loss: 0.9881 - val_acc: 0.6758\n",
      "Epoch 23/25\n",
      "50000/50000 [==============================] - 136s - loss: 0.3921 - acc: 0.8685 - val_loss: 0.9569 - val_acc: 0.6878\n",
      "Epoch 24/25\n",
      "50000/50000 [==============================] - 128s - loss: 0.3585 - acc: 0.8816 - val_loss: 1.0661 - val_acc: 0.6561\n",
      "Epoch 25/25\n",
      "50000/50000 [==============================] - 130s - loss: 0.3389 - acc: 0.8888 - val_loss: 0.9568 - val_acc: 0.6954\n"
     ]
    },
    {
     "data": {
      "text/plain": [
       "<keras.callbacks.History at 0x12cab6b00>"
      ]
     },
     "execution_count": 6,
     "metadata": {},
     "output_type": "execute_result"
    }
   ],
   "source": [
    "#Start Training!\n",
    "model.fit(X, y, validation_data=(X_test, y_test), epochs=25,\n",
    "          batch_size=512)"
   ]
  },
  {
   "cell_type": "code",
   "execution_count": 7,
   "metadata": {},
   "outputs": [
    {
     "name": "stdout",
     "output_type": "stream",
     "text": [
      " 9952/10000 [============================>.] - ETA: 0sAccuracy: &2.f%\n"
     ]
    }
   ],
   "source": [
    "#Save the weights to use for later\n",
    "#model.save_weights(\"cifar10.hdf5\")\n",
    "#Finally print the accuracy of our model!\n",
    "print(\"Accuracy: &2.f%%\" %(model.evaluate(X_test, y_test)[1]*100))"
   ]
  },
  {
   "cell_type": "code",
   "execution_count": 8,
   "metadata": {},
   "outputs": [
    {
     "name": "stdout",
     "output_type": "stream",
     "text": [
      "1/1 [==============================] - 0s\n",
      "[6]\n"
     ]
    }
   ],
   "source": [
    "print(model.predict_classes(X[0:1]))"
   ]
  }
 ],
 "metadata": {
  "kernelspec": {
   "display_name": "Python 3",
   "language": "python",
   "name": "python3"
  },
  "language_info": {
   "codemirror_mode": {
    "name": "ipython",
    "version": 3
   },
   "file_extension": ".py",
   "mimetype": "text/x-python",
   "name": "python",
   "nbconvert_exporter": "python",
   "pygments_lexer": "ipython3",
   "version": "3.7.1"
  }
 },
 "nbformat": 4,
 "nbformat_minor": 2
}
